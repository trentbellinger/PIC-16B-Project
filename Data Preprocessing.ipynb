{
 "cells": [
  {
   "cell_type": "markdown",
   "id": "4ef59dde",
   "metadata": {},
   "source": [
    "## Creating data that we can use on our model:\n",
    "* We will use YEAR, MONTH, DAY_OF_MONTH, DEP_TIME, ARR_TIME, OP_UNIQUE_CARRIER, DISTANCE, ORIGIN_LATITUDE, ORIGIN_LONGITUDE, DEST_LATITUDE, and DEST_LONGITUDE to predict DEP_DEL15."
   ]
  },
  {
   "cell_type": "code",
   "execution_count": 2,
   "id": "2243bca2",
   "metadata": {},
   "outputs": [],
   "source": [
    "import sqlite3\n",
    "import pandas as pd"
   ]
  },
  {
   "cell_type": "code",
   "execution_count": 3,
   "id": "919bd749",
   "metadata": {},
   "outputs": [],
   "source": [
    "def get_flight_data():\n",
    "    with sqlite3.connect(\"flights.db\") as conn:\n",
    "        cmd = \\\n",
    "        \"\"\"\n",
    "        SELECT \n",
    "            flights.YEAR, flights.MONTH, flights.DAY_OF_MONTH, flights.DEP_TIME, flights.ARR_TIME, flights.OP_UNIQUE_CARRIER, flights.ORIGIN, flights.DEST, flights.DISTANCE, flights.DEP_DEL15, airports.LATITUDE \"ORIGIN_LATITUDE\", airports.LONGITUDE \"ORIGIN_LONGITUDE\"\n",
    "        FROM \n",
    "            flights\n",
    "        INNER JOIN \n",
    "            airports ON flights.ORIGIN = airports.AIRPORT_ID\n",
    "        \"\"\"\n",
    "        df = pd.read_sql_query(cmd, conn)\n",
    "    with sqlite3.connect(\"flights.db\") as conn:\n",
    "        cmd = \\\n",
    "        \"\"\"\n",
    "        SELECT \n",
    "            flights.DEST, airports.LATITUDE \"DEST_LATITUDE\", airports.LONGITUDE \"DEST_LONGITUDE\"\n",
    "        FROM \n",
    "            flights\n",
    "        INNER JOIN \n",
    "            airports ON flights.DEST = airports.AIRPORT_ID\n",
    "        \"\"\"\n",
    "        df_dest = pd.read_sql_query(cmd, conn)\n",
    "    df[\"DEST_LATITUDE\"] = df_dest[\"DEST_LATITUDE\"]\n",
    "    df[\"DEST_LONGITUDE\"] = df_dest[\"DEST_LONGITUDE\"]\n",
    "    return df"
   ]
  },
  {
   "cell_type": "code",
   "execution_count": 5,
   "id": "8a47e2ac",
   "metadata": {},
   "outputs": [
    {
     "data": {
      "text/html": [
       "<div>\n",
       "<style scoped>\n",
       "    .dataframe tbody tr th:only-of-type {\n",
       "        vertical-align: middle;\n",
       "    }\n",
       "\n",
       "    .dataframe tbody tr th {\n",
       "        vertical-align: top;\n",
       "    }\n",
       "\n",
       "    .dataframe thead th {\n",
       "        text-align: right;\n",
       "    }\n",
       "</style>\n",
       "<table border=\"1\" class=\"dataframe\">\n",
       "  <thead>\n",
       "    <tr style=\"text-align: right;\">\n",
       "      <th></th>\n",
       "      <th>YEAR</th>\n",
       "      <th>MONTH</th>\n",
       "      <th>DAY_OF_MONTH</th>\n",
       "      <th>DEP_TIME</th>\n",
       "      <th>ARR_TIME</th>\n",
       "      <th>OP_UNIQUE_CARRIER</th>\n",
       "      <th>ORIGIN</th>\n",
       "      <th>DEST</th>\n",
       "      <th>DISTANCE</th>\n",
       "      <th>DEP_DEL15</th>\n",
       "      <th>ORIGIN_LATITUDE</th>\n",
       "      <th>ORIGIN_LONGITUDE</th>\n",
       "      <th>DEST_LATITUDE</th>\n",
       "      <th>DEST_LONGITUDE</th>\n",
       "    </tr>\n",
       "  </thead>\n",
       "  <tbody>\n",
       "    <tr>\n",
       "      <th>0</th>\n",
       "      <td>2022</td>\n",
       "      <td>11</td>\n",
       "      <td>1</td>\n",
       "      <td>1355.0</td>\n",
       "      <td>1747.0</td>\n",
       "      <td>9E</td>\n",
       "      <td>XNA</td>\n",
       "      <td>LGA</td>\n",
       "      <td>1147.0</td>\n",
       "      <td>0.0</td>\n",
       "      <td>36.281579</td>\n",
       "      <td>-94.307766</td>\n",
       "      <td>40.777250</td>\n",
       "      <td>-73.872611</td>\n",
       "    </tr>\n",
       "    <tr>\n",
       "      <th>1</th>\n",
       "      <td>2022</td>\n",
       "      <td>11</td>\n",
       "      <td>1</td>\n",
       "      <td>1412.0</td>\n",
       "      <td>1609.0</td>\n",
       "      <td>9E</td>\n",
       "      <td>LGA</td>\n",
       "      <td>CVG</td>\n",
       "      <td>585.0</td>\n",
       "      <td>1.0</td>\n",
       "      <td>40.777250</td>\n",
       "      <td>-73.872611</td>\n",
       "      <td>39.048837</td>\n",
       "      <td>-84.667821</td>\n",
       "    </tr>\n",
       "    <tr>\n",
       "      <th>2</th>\n",
       "      <td>2022</td>\n",
       "      <td>11</td>\n",
       "      <td>1</td>\n",
       "      <td>1345.0</td>\n",
       "      <td>1550.0</td>\n",
       "      <td>9E</td>\n",
       "      <td>LGA</td>\n",
       "      <td>XNA</td>\n",
       "      <td>1147.0</td>\n",
       "      <td>0.0</td>\n",
       "      <td>40.777250</td>\n",
       "      <td>-73.872611</td>\n",
       "      <td>36.281579</td>\n",
       "      <td>-94.307766</td>\n",
       "    </tr>\n",
       "    <tr>\n",
       "      <th>3</th>\n",
       "      <td>2022</td>\n",
       "      <td>11</td>\n",
       "      <td>1</td>\n",
       "      <td>1550.0</td>\n",
       "      <td>1648.0</td>\n",
       "      <td>9E</td>\n",
       "      <td>LSE</td>\n",
       "      <td>MSP</td>\n",
       "      <td>119.0</td>\n",
       "      <td>0.0</td>\n",
       "      <td>43.879266</td>\n",
       "      <td>-91.256634</td>\n",
       "      <td>44.881972</td>\n",
       "      <td>-93.221778</td>\n",
       "    </tr>\n",
       "    <tr>\n",
       "      <th>4</th>\n",
       "      <td>2022</td>\n",
       "      <td>11</td>\n",
       "      <td>1</td>\n",
       "      <td>1418.0</td>\n",
       "      <td>1506.0</td>\n",
       "      <td>9E</td>\n",
       "      <td>MSP</td>\n",
       "      <td>LSE</td>\n",
       "      <td>119.0</td>\n",
       "      <td>0.0</td>\n",
       "      <td>44.881972</td>\n",
       "      <td>-93.221778</td>\n",
       "      <td>43.879266</td>\n",
       "      <td>-91.256634</td>\n",
       "    </tr>\n",
       "  </tbody>\n",
       "</table>\n",
       "</div>"
      ],
      "text/plain": [
       "   YEAR  MONTH  DAY_OF_MONTH  DEP_TIME  ARR_TIME OP_UNIQUE_CARRIER ORIGIN  \\\n",
       "0  2022     11             1    1355.0    1747.0                9E    XNA   \n",
       "1  2022     11             1    1412.0    1609.0                9E    LGA   \n",
       "2  2022     11             1    1345.0    1550.0                9E    LGA   \n",
       "3  2022     11             1    1550.0    1648.0                9E    LSE   \n",
       "4  2022     11             1    1418.0    1506.0                9E    MSP   \n",
       "\n",
       "  DEST  DISTANCE  DEP_DEL15  ORIGIN_LATITUDE  ORIGIN_LONGITUDE  DEST_LATITUDE  \\\n",
       "0  LGA    1147.0        0.0        36.281579        -94.307766      40.777250   \n",
       "1  CVG     585.0        1.0        40.777250        -73.872611      39.048837   \n",
       "2  XNA    1147.0        0.0        40.777250        -73.872611      36.281579   \n",
       "3  MSP     119.0        0.0        43.879266        -91.256634      44.881972   \n",
       "4  LSE     119.0        0.0        44.881972        -93.221778      43.879266   \n",
       "\n",
       "   DEST_LONGITUDE  \n",
       "0      -73.872611  \n",
       "1      -84.667821  \n",
       "2      -94.307766  \n",
       "3      -93.221778  \n",
       "4      -91.256634  "
      ]
     },
     "execution_count": 5,
     "metadata": {},
     "output_type": "execute_result"
    }
   ],
   "source": [
    "df = get_flight_data()\n",
    "df.head()"
   ]
  },
  {
   "cell_type": "markdown",
   "id": "b9b633cf",
   "metadata": {},
   "source": [
    "## Encoding Categorical Variables:\n",
    "* There is only one categorical predictor: OP_UNIQUE_CARRIER.\n",
    "* We need to see if there are any similarities between carriers to encode the predictor.\n",
    "* We will look at the average distance for flights with the same carrier and the proportion of delayed flights for each carrier."
   ]
  },
  {
   "cell_type": "code",
   "execution_count": 6,
   "id": "1522dddb",
   "metadata": {},
   "outputs": [],
   "source": [
    "# 9E: endeavor air, AA: american, AS: alaska, B6: jetblue, c5: commuteair, dl: delta, f9: frontier\n",
    "# g4: allegiant, g7: gojet, HA: hawaiian, MQ: envoy, NK: spirit, OH: psa, OO: skywest, PT: tap air portugal, \n",
    "# QX: horizon, UA: united, WN: southwest, YV: mesa, YX: republic airways, ZW: air wisconsin\n",
    "\n",
    "carrier_groups = df[[\"OP_UNIQUE_CARRIER\", \"DEP_DEL15\"]].groupby(\"OP_UNIQUE_CARRIER\")\n",
    "carrier_delays = carrier_groups.mean()\n",
    "# >0.3: B6, F9\n",
    "# 0.25-0.3: G4, NK, WN\n",
    "# 0.2-0.25: AA, HA, UA, YV, ZW\n",
    "# 0.15-0.2: AS, C5, DL, G7, MQ\n",
    "# 0.1-0.15: 9E, OH, OO, PT, QX, YX"
   ]
  },
  {
   "cell_type": "code",
   "execution_count": 7,
   "id": "1943489c",
   "metadata": {},
   "outputs": [],
   "source": [
    "carrier_groups = df[[\"OP_UNIQUE_CARRIER\", \"DISTANCE\"]].groupby(\"OP_UNIQUE_CARRIER\")\n",
    "carrier_distances = carrier_groups.median()\n",
    "# >1100: AS\n",
    "# 1000-1100: B6\n",
    "# 900-1000: F9, NK, UA\n",
    "# 800-900: AA, G4\n",
    "# 700-800: DL\n",
    "# 600-700: WN\n",
    "# 400-500: MQ, OO, YV, YX\n",
    "# 300-400: 9E, C5, OH, QX\n",
    "# 200-300: G7, PT, ZW\n",
    "# 100-200: HA"
   ]
  },
  {
   "cell_type": "code",
   "execution_count": 8,
   "id": "3a9b9602",
   "metadata": {},
   "outputs": [],
   "source": [
    "import matplotlib.pyplot as plt"
   ]
  },
  {
   "cell_type": "code",
   "execution_count": 9,
   "id": "35fd67ac",
   "metadata": {},
   "outputs": [
    {
     "data": {
      "image/png": "[encoded data removed]",
      "text/plain": [
       "<Figure size 640x480 with 1 Axes>"
      ]
     },
     "metadata": {},
     "output_type": "display_data"
    }
   ],
   "source": [
    "fig, ax = plt.subplots()\n",
    "ax.scatter(x = carrier_delays, y = carrier_distances)\n",
    "\n",
    "for i, txt in enumerate(carrier_delays.index):\n",
    "    ax.annotate(txt, (carrier_delays[\"DEP_DEL15\"][i], carrier_distances[\"DISTANCE\"][i]))"
   ]
  },
  {
   "cell_type": "markdown",
   "id": "d5cd3314",
   "metadata": {},
   "source": [
    "* There are four groups in the scatterplot above, which we will use to encode the carriers."
   ]
  },
  {
   "cell_type": "code",
   "execution_count": 10,
   "id": "2e0be028",
   "metadata": {},
   "outputs": [],
   "source": [
    "# 0: PT, YX, 9E, QX, OH, OO, C5, G7, MQ\n",
    "# 1: HA, ZW, YV, WN\n",
    "# 2: DL, AA, G4, UA, AS\n",
    "# 4: B6, F9, NK\n",
    "df[\"OP_UNIQUE_CARRIER\"].replace({\"PT\":0, \"YX\":0, \"9E\":0, \"QX\":0, \"OH\":0, \"OO\":0, \"C5\":0, \"G7\":0, \"MQ\":0, \"HA\":1, \"ZW\":1, \"YV\":1, \"WN\":1, \"DL\":2, \"AA\":2, \"G4\":2, \"UA\":2, \"AS\":2, \"B6\":4, \"F9\":4, \"NK\":4}, inplace = True)"
   ]
  },
  {
   "cell_type": "markdown",
   "id": "6c2719b2",
   "metadata": {},
   "source": [
    "## Train and Test Data:"
   ]
  },
  {
   "cell_type": "code",
   "execution_count": 11,
   "id": "e0d54d41",
   "metadata": {},
   "outputs": [],
   "source": [
    "from sklearn.model_selection import train_test_split"
   ]
  },
  {
   "cell_type": "code",
   "execution_count": 12,
   "id": "278584fc",
   "metadata": {},
   "outputs": [
    {
     "name": "stdout",
     "output_type": "stream",
     "text": [
      "(6254679, 11) (1563670, 11) (6254679, 1) (1563670, 1)\n"
     ]
    }
   ],
   "source": [
    "model_X = df[['YEAR', 'MONTH', 'DAY_OF_MONTH', 'DEP_TIME', 'ARR_TIME', 'OP_UNIQUE_CARRIER', 'DISTANCE', 'ORIGIN_LATITUDE', 'ORIGIN_LONGITUDE', 'DEST_LATITUDE', 'DEST_LONGITUDE']]\n",
    "model_y = df[['DEP_DEL15']]\n",
    "X_train, X_test, y_train, y_test = train_test_split(model_X, model_y, test_size = 0.2, random_state = 50)\n",
    "print(X_train.shape, X_test.shape, y_train.shape, y_test.shape)"
   ]
  },
  {
   "cell_type": "code",
   "execution_count": null,
   "id": "9899f1e7",
   "metadata": {},
   "outputs": [],
   "source": []
  }
 ],
 "metadata": {
  "kernelspec": {
   "display_name": "Python [conda env:PIC16B-24W] *",
   "language": "python",
   "name": "conda-env-PIC16B-24W-py"
  },
  "language_info": {
   "codemirror_mode": {
    "name": "ipython",
    "version": 3
   },
   "file_extension": ".py",
   "mimetype": "text/x-python",
   "name": "python",
   "nbconvert_exporter": "python",
   "pygments_lexer": "ipython3",
   "version": "3.11.6"
  }
 },
 "nbformat": 4,
 "nbformat_minor": 5
}
