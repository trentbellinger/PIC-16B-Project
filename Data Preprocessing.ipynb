{
 "cells": [
  {
   "cell_type": "markdown",
   "id": "a9016183",
   "metadata": {},
   "source": [
    "## Creating data that we can use on our model:\n",
    "* We will use YEAR, MONTH, DAY_OF_MONTH, DEP_TIME, ARR_TIME, OP_UNIQUE_CARRIER, DISTANCE, ORIGIN_LATITUDE, ORIGIN_LONGITUDE, DEST_LATITUDE, and DEST_LONGITUDE to predict DEP_DEL15."
   ]
  },
  {
   "cell_type": "code",
   "execution_count": 2,
   "id": "a4f5be92",
   "metadata": {},
   "outputs": [],
   "source": [
    "import sqlite3\n",
    "import pandas as pd"
   ]
  },
  {
   "cell_type": "code",
   "execution_count": 3,
   "id": "d8eb8a0b",
   "metadata": {},
   "outputs": [],
   "source": [
    "def get_flight_data():\n",
    "    with sqlite3.connect(\"flights.db\") as conn:\n",
    "        cmd = \\\n",
    "        \"\"\"\n",
    "        SELECT \n",
    "            flights.YEAR, flights.MONTH, flights.DAY_OF_MONTH, flights.DEP_TIME, flights.ARR_TIME, flights.OP_UNIQUE_CARRIER, flights.ORIGIN, flights.DEST, flights.DISTANCE, flights.DEP_DEL15, airports.LATITUDE \"ORIGIN_LATITUDE\", airports.LONGITUDE \"ORIGIN_LONGITUDE\"\n",
    "        FROM \n",
    "            flights\n",
    "        INNER JOIN \n",
    "            airports ON flights.ORIGIN = airports.AIRPORT_ID\n",
    "        \"\"\"\n",
    "        df = pd.read_sql_query(cmd, conn)\n",
    "    with sqlite3.connect(\"flights.db\") as conn:\n",
    "        cmd = \\\n",
    "        \"\"\"\n",
    "        SELECT \n",
    "            flights.DEST, airports.LATITUDE \"DEST_LATITUDE\", airports.LONGITUDE \"DEST_LONGITUDE\"\n",
    "        FROM \n",
    "            flights\n",
    "        INNER JOIN \n",
    "            airports ON flights.DEST = airports.AIRPORT_ID\n",
    "        \"\"\"\n",
    "        df_dest = pd.read_sql_query(cmd, conn)\n",
    "    df[\"DEST_LATITUDE\"] = df_dest[\"DEST_LATITUDE\"]\n",
    "    df[\"DEST_LONGITUDE\"] = df_dest[\"DEST_LONGITUDE\"]\n",
    "    return df"
   ]
  },
  {
   "cell_type": "code",
   "execution_count": null,
   "id": "629890a3",
   "metadata": {},
   "outputs": [],
   "source": [
    "df = get_flight_data()"
   ]
  },
  {
   "cell_type": "markdown",
   "id": "0fa5c68c",
   "metadata": {},
   "source": [
    "## Encoding Categorical Variables:\n",
    "* There is only one categorical predictor: OP_UNIQUE_CARRIER.\n",
    "* We need to see if there are any similarities between carriers to encode the predictor.\n",
    "* We will look at the average distance for flights with the same carrier and the proportion of delayed flights for each carrier."
   ]
  },
  {
   "cell_type": "code",
   "execution_count": null,
   "id": "8e220406",
   "metadata": {},
   "outputs": [],
   "source": [
    "df = get_flight_data()"
   ]
  },
  {
   "cell_type": "code",
   "execution_count": null,
   "id": "099266b2",
   "metadata": {},
   "outputs": [],
   "source": [
    "# 9E: endeavor air, AA: american, AS: alaska, B6: jetblue, c5: commuteair, dl: delta, f9: frontier\n",
    "# g4: allegiant, g7: gojet, HA: hawaiian, MQ: envoy, NK: spirit, OH: psa, OO: skywest, PT: tap air portugal, \n",
    "# QX: horizon, UA: united, WN: southwest, YV: mesa, YX: republic airways, ZW: air wisconsin\n",
    "\n",
    "carrier_groups = df[[\"OP_UNIQUE_CARRIER\", \"DEP_DEL15\"]].groupby(\"OP_UNIQUE_CARRIER\")\n",
    "carrier_delays = carrier_groups.mean()\n",
    "# >0.3: B6, F9\n",
    "# 0.25-0.3: G4, NK, WN\n",
    "# 0.2-0.25: AA, HA, UA, YV, ZW\n",
    "# 0.15-0.2: AS, C5, DL, G7, MQ\n",
    "# 0.1-0.15: 9E, OH, OO, PT, QX, YX"
   ]
  },
  {
   "cell_type": "code",
   "execution_count": null,
   "id": "afd4c139",
   "metadata": {},
   "outputs": [],
   "source": [
    "carrier_groups = df[[\"OP_UNIQUE_CARRIER\", \"DISTANCE\"]].groupby(\"OP_UNIQUE_CARRIER\")\n",
    "carrier_distances = carrier_groups.median()\n",
    "# >1100: AS\n",
    "# 1000-1100: B6\n",
    "# 900-1000: F9, NK, UA\n",
    "# 800-900: AA, G4\n",
    "# 700-800: DL\n",
    "# 600-700: WN\n",
    "# 400-500: MQ, OO, YV, YX\n",
    "# 300-400: 9E, C5, OH, QX\n",
    "# 200-300: G7, PT, ZW\n",
    "# 100-200: HA"
   ]
  },
  {
   "cell_type": "code",
   "execution_count": null,
   "id": "3d471595",
   "metadata": {},
   "outputs": [],
   "source": [
    "import matplotlib.pyplot as plt"
   ]
  },
  {
   "cell_type": "code",
   "execution_count": null,
   "id": "3127e41a",
   "metadata": {},
   "outputs": [],
   "source": [
    "import matplotlib.pyplot as plt\n",
    "\n",
    "fig, ax = plt.subplots()\n",
    "ax.scatter(x = carrier_delays, y = carrier_distances)\n",
    "\n",
    "for i, txt in enumerate(carrier_delays.index):\n",
    "    ax.annotate(txt, (carrier_delays[\"DEP_DEL15\"][i], carrier_distances[\"DISTANCE\"][i]))"
   ]
  },
  {
   "cell_type": "markdown",
   "id": "b70e7130",
   "metadata": {},
   "source": [
    "* There are four groups in the scatterplot above, which we will use to encode the carriers."
   ]
  },
  {
   "cell_type": "code",
   "execution_count": null,
   "id": "d4d4694e",
   "metadata": {},
   "outputs": [],
   "source": [
    "# 0: PT, YX, 9E, QX, OH, OO, C5, G7, MQ\n",
    "# 1: HA, ZW, YV, WN\n",
    "# 2: DL, AA, G4, UA, AS\n",
    "# 4: B6, F9, NK\n",
    "df[\"OP_UNIQUE_CARRIER\"].replace({\"PT\":0, \"YX\":0, \"9E\":0, \"QX\":0, \"OH\":0, \"OO\":0, \"C5\":0, \"G7\":0, \"MQ\":0, \"HA\":1, \"ZW\":1, \"YV\":1, \"WN\":1, \"DL\":2, \"AA\":2, \"G4\":2, \"UA\":2, \"AS\":2, \"B6\":4, \"F9\":4, \"NK\":4}, inplace = True)"
   ]
  },
  {
   "cell_type": "markdown",
   "id": "6784eb70",
   "metadata": {},
   "source": [
    "## Train and Test Data:"
   ]
  },
  {
   "cell_type": "code",
   "execution_count": null,
   "id": "1be0c419",
   "metadata": {},
   "outputs": [],
   "source": [
    "from sklearn.model_selection import train_test_split"
   ]
  },
  {
   "cell_type": "code",
   "execution_count": null,
   "id": "3b5b66d3",
   "metadata": {},
   "outputs": [],
   "source": [
    "model_X = df[['YEAR', 'MONTH', 'DAY_OF_MONTH', 'DEP_TIME', 'ARR_TIME', 'OP_UNIQUE_CARRIER', 'DISTANCE', 'ORIGIN_LATITUDE', 'ORIGIN_LONGITUDE', 'DEST_LATITUDE', 'DEST_LONGITUDE']]\n",
    "model_y = df[['DEP_DEL15']]\n",
    "X_train, X_test, y_train, y_test = train_test_split(model_X, model_y, test_size = 0.2, random_state = 50)\n",
    "print(X_train.shape, X_test.shape, y_train.shape, y_test.shape)"
   ]
  }
 ],
 "metadata": {
  "kernelspec": {
   "display_name": "Python [conda env:PIC16B-24W] *",
   "language": "python",
   "name": "conda-env-PIC16B-24W-py"
  },
  "language_info": {
   "codemirror_mode": {
    "name": "ipython",
    "version": 3
   },
   "file_extension": ".py",
   "mimetype": "text/x-python",
   "name": "python",
   "nbconvert_exporter": "python",
   "pygments_lexer": "ipython3",
   "version": "3.11.6"
  }
 },
 "nbformat": 4,
 "nbformat_minor": 5
}
