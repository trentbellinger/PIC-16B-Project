{
 "cells": [
  {
   "cell_type": "code",
   "execution_count": 1,
   "id": "d63416ec",
   "metadata": {},
   "outputs": [],
   "source": [
    "import sqlite3\n",
    "import pandas as pd"
   ]
  },
  {
   "cell_type": "code",
   "execution_count": 2,
   "id": "187fcc3c",
   "metadata": {},
   "outputs": [],
   "source": [
    "from sklearn.linear_model import LogisticRegression\n",
    "from sklearn.preprocessing import StandardScaler\n",
    "from sklearn.model_selection import train_test_split\n",
    "from sklearn.metrics import accuracy_score, classification_report"
   ]
  },
  {
   "cell_type": "code",
   "execution_count": 6,
   "id": "22169928",
   "metadata": {},
   "outputs": [],
   "source": [
    "from sklearn.model_selection import train_test_split\n",
    "from sklearn.preprocessing import StandardScaler\n",
    "from sklearn.svm import SVC\n",
    "from sklearn.metrics import classification_report, accuracy_score"
   ]
  },
  {
   "cell_type": "code",
   "execution_count": 6,
   "id": "cb0ac9a2",
   "metadata": {},
   "outputs": [],
   "source": [
    "conn = sqlite3.connect(\"flight_data.db\")"
   ]
  },
  {
   "cell_type": "code",
   "execution_count": 11,
   "id": "2d31e42c",
   "metadata": {},
   "outputs": [],
   "source": [
    "# Read in the csv file as an iterator with up to 100,000 observations each iteration\n",
    "air23_iter = pd.read_csv(\"./Data/air_2023.csv\", chunksize=100000)\n",
    "for i, df in enumerate(air23_iter):\n",
    "    # add \"air_2023\" table to the database\n",
    "    df.drop(df.columns[0], axis=1, inplace=True)\n",
    "    df.to_sql(\"air_2023\", conn, if_exists=\"replace\" if i==0 else \"append\", \n",
    "              index=False)"
   ]
  },
  {
   "cell_type": "code",
   "execution_count": 12,
   "id": "2eb9212b",
   "metadata": {},
   "outputs": [
    {
     "name": "stdout",
     "output_type": "stream",
     "text": [
      "[('air_2023',)]\n"
     ]
    }
   ],
   "source": [
    "cursor = conn.cursor() # we can only execute sql commands kthrough cursor\n",
    "cursor.execute(\"SELECT name FROM sqlite_master WHERE type='table'\")\n",
    "print(cursor.fetchall())"
   ]
  },
  {
   "cell_type": "code",
   "execution_count": 13,
   "id": "d8fd53e7",
   "metadata": {},
   "outputs": [],
   "source": [
    "conn.close()"
   ]
  },
  {
   "cell_type": "code",
   "execution_count": 5,
   "id": "086ef651",
   "metadata": {},
   "outputs": [],
   "source": [
    "air_2023 = pd.read_csv(\"./Data/air_2023.csv\")"
   ]
  },
  {
   "cell_type": "code",
   "execution_count": 6,
   "id": "99cc4e13",
   "metadata": {},
   "outputs": [
    {
     "data": {
      "text/plain": [
       "6013171"
      ]
     },
     "execution_count": 6,
     "metadata": {},
     "output_type": "execute_result"
    }
   ],
   "source": [
    "len(air_2023)"
   ]
  },
  {
   "cell_type": "code",
   "execution_count": 3,
   "id": "7da46d38",
   "metadata": {},
   "outputs": [],
   "source": []
  },
  {
   "cell_type": "code",
   "execution_count": 4,
   "id": "f6b7f4cb",
   "metadata": {},
   "outputs": [],
   "source": [
    "from flight_database import query_flight_database\n",
    "air_2023 = query_flight_database(\"flight_data.db\")"
   ]
  },
  {
   "cell_type": "code",
   "execution_count": 7,
   "id": "c836bc56",
   "metadata": {},
   "outputs": [],
   "source": [
    "scaler = StandardScaler()\n",
    "\n",
    "air_2023['DISTANCE'] = scaler.fit_transform(air_2023[['DISTANCE']])\n",
    "air_2023['counts'] = scaler.fit_transform(air_2023[['counts']])\n",
    "\n",
    "X = air_2023.drop('target', axis=1)\n",
    "y = air_2023['target']"
   ]
  },
  {
   "cell_type": "code",
   "execution_count": 9,
   "id": "b2f9a920",
   "metadata": {},
   "outputs": [],
   "source": [
    "X_train, X_test, y_train, y_test = train_test_split(X, y, test_size=0.2, random_state=42)"
   ]
  },
  {
   "cell_type": "code",
   "execution_count": 11,
   "id": "fb6c7ae4",
   "metadata": {},
   "outputs": [
    {
     "name": "stdout",
     "output_type": "stream",
     "text": [
      "Accuracy: 0.6228864119204912\n",
      "Classification Report:\n",
      "               precision    recall  f1-score   support\n",
      "\n",
      "           0       0.64      0.93      0.75    752675\n",
      "           1       0.48      0.12      0.19    449960\n",
      "\n",
      "    accuracy                           0.62   1202635\n",
      "   macro avg       0.56      0.52      0.47   1202635\n",
      "weighted avg       0.58      0.62      0.54   1202635\n",
      "\n"
     ]
    }
   ],
   "source": [
    "logreg = LogisticRegression()\n",
    "\n",
    "# Fit the model\n",
    "logreg.fit(X_train, y_train)\n",
    "\n",
    "# Predict on the test data\n",
    "y_pred = logreg.predict(X_test)\n",
    "\n",
    "# Evaluate the model\n",
    "accuracy = accuracy_score(y_test, y_pred)\n",
    "report = classification_report(y_test, y_pred)\n",
    "\n",
    "print(\"Accuracy:\", accuracy)\n",
    "print(\"Classification Report:\\n\", report)"
   ]
  },
  {
   "cell_type": "markdown",
   "id": "ff6ade26",
   "metadata": {},
   "source": [
    "The F1-Score is pretty low, which means that this model is not good at predicting delayed flights at all. "
   ]
  },
  {
   "cell_type": "code",
   "execution_count": 13,
   "id": "7b7eaa54",
   "metadata": {},
   "outputs": [
    {
     "data": {
      "text/plain": [
       "array([0.46350808, 0.24138423, 0.26886341, ..., 0.50334948, 0.44418207,\n",
       "       0.40845371])"
      ]
     },
     "execution_count": 13,
     "metadata": {},
     "output_type": "execute_result"
    }
   ],
   "source": [
    "# If you need probability outputs\n",
    "y_prob = logreg.predict_proba(X_test)[:, 1]\n",
    "y_prob"
   ]
  },
  {
   "cell_type": "code",
   "execution_count": null,
   "id": "5b1218a8",
   "metadata": {},
   "outputs": [],
   "source": [
    "\n",
    "\n",
    "svm_classifier = SVC(kernel='linear')  # Use kernel='rbf' for non-linear problems\n",
    "\n",
    "# Fit the model on the training data\n",
    "svm_classifier.fit(X_train, y_train)\n",
    "\n",
    "# Predict on the test data\n",
    "y_pred = svm_classifier.predict(X_test)\n",
    "\n",
    "# Evaluate the model\n",
    "accuracy = accuracy_score(y_test, y_pred)\n",
    "report = classification_report(y_test, y_pred)\n",
    "\n",
    "print(\"Accuracy:\", accuracy)\n",
    "print(\"Classification Report:\\n\", report)\n"
   ]
  },
  {
   "cell_type": "code",
   "execution_count": null,
   "id": "808e619a",
   "metadata": {},
   "outputs": [],
   "source": [
    "svm_classifier = SVC(kernel='rbf')  # Use kernel='rbf' for non-linear problems\n",
    "\n",
    "# Fit the model on the training data\n",
    "svm_classifier.fit(X_train, y_train)\n",
    "\n",
    "# Predict on the test data\n",
    "y_pred = svm_classifier.predict(X_test)\n",
    "\n",
    "# Evaluate the model\n",
    "accuracy = accuracy_score(y_test, y_pred)\n",
    "report = classification_report(y_test, y_pred)\n",
    "\n",
    "print(\"Accuracy:\", accuracy)\n",
    "print(\"Classification Report:\\n\", report)"
   ]
  },
  {
   "cell_type": "code",
   "execution_count": null,
   "id": "df9f3b0a",
   "metadata": {},
   "outputs": [],
   "source": []
  }
 ],
 "metadata": {
  "kernelspec": {
   "display_name": "Python 3 (ipykernel)",
   "language": "python",
   "name": "python3"
  },
  "language_info": {
   "codemirror_mode": {
    "name": "ipython",
    "version": 3
   },
   "file_extension": ".py",
   "mimetype": "text/x-python",
   "name": "python",
   "nbconvert_exporter": "python",
   "pygments_lexer": "ipython3",
   "version": "3.9.18"
  }
 },
 "nbformat": 4,
 "nbformat_minor": 5
}
