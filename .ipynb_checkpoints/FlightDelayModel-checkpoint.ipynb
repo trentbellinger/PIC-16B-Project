{
 "cells": [
  {
   "cell_type": "code",
   "execution_count": 3,
   "id": "8644d97a",
   "metadata": {},
   "outputs": [],
   "source": [
    "import pandas as pd\n",
    "import sqlite3\n",
    "import numpy as np\n",
    "import matplotlib.pyplot as plt"
   ]
  },
  {
   "cell_type": "markdown",
   "id": "05123ee1",
   "metadata": {},
   "source": [
    "# Data Loading"
   ]
  },
  {
   "cell_type": "markdown",
   "id": "55d3f573",
   "metadata": {},
   "source": [
    "* We started by importing flights data from the US Bureau of Transportation. This data was obtained through the following link: https://www.transtats.bts.gov/DL_SelectFields.aspx?gnoyr_VQ=FGK&QO_fu146_anzr=b0-gvzr\n",
    "* The data that we got was organized by month, so we imported data from November of 2022 to November of 2023.\n",
    "* The data contains all flights that have departure and arrival location in the United States.\n",
    "* Each of the monthly datasets are loaded in below.\n",
    "* Note: We could not put thsee datasets into our GitHub because they were too large. So this process will only work on computers where the data is already uploaded."
   ]
  },
  {
   "cell_type": "code",
   "execution_count": 4,
   "id": "f22f7b5a",
   "metadata": {},
   "outputs": [
    {
     "name": "stderr",
     "output_type": "stream",
     "text": [
      "/var/folders/j_/h9m1dhfn0g911dyhb57lr0vc0000gn/T/ipykernel_9165/2014562275.py:3: DtypeWarning: Columns (39) have mixed types. Specify dtype option on import or set low_memory=False.\n",
      "  jan23 = pd.read_csv(\"jan23.csv\")\n",
      "/var/folders/j_/h9m1dhfn0g911dyhb57lr0vc0000gn/T/ipykernel_9165/2014562275.py:9: DtypeWarning: Columns (39) have mixed types. Specify dtype option on import or set low_memory=False.\n",
      "  jul23 = pd.read_csv(\"jul23.csv\")\n"
     ]
    }
   ],
   "source": [
    "nov22 = pd.read_csv(\"nov22.csv\")\n",
    "dec22 = pd.read_csv(\"dec22.csv\")\n",
    "jan23 = pd.read_csv(\"jan23.csv\")\n",
    "feb23 = pd.read_csv(\"feb23.csv\")\n",
    "mar23 = pd.read_csv(\"mar23.csv\")\n",
    "apr23 = pd.read_csv(\"apr23.csv\")\n",
    "may23 = pd.read_csv(\"may23.csv\")\n",
    "jun23 = pd.read_csv(\"jun23.csv\")\n",
    "jul23 = pd.read_csv(\"jul23.csv\")\n",
    "aug23 = pd.read_csv(\"aug23.csv\")\n",
    "sep23 = pd.read_csv(\"sep23.csv\")\n",
    "oct23 = pd.read_csv(\"oct23.csv\")\n",
    "nov23 = pd.read_csv(\"nov23.csv\")"
   ]
  },
  {
   "cell_type": "markdown",
   "id": "9d8684af",
   "metadata": {},
   "source": [
    "* Before we start to explore our data, we will concatenate it into one dataframe object/ This object will contain data for all flights in the US from November of 2022 to November of 2023."
   ]
  },
  {
   "cell_type": "code",
   "execution_count": 5,
   "id": "b337c994",
   "metadata": {},
   "outputs": [
    {
     "data": {
      "text/plain": [
       "(7818349, 50)"
      ]
     },
     "execution_count": 5,
     "metadata": {},
     "output_type": "execute_result"
    }
   ],
   "source": [
    "all_data = pd.concat([nov22, dec22, jan23, feb23, mar23, apr23, may23, jun23, jul23, aug23, sep23, oct23, nov23], \n",
    "                     ignore_index = True, axis = 0)\n",
    "all_data.shape"
   ]
  },
  {
   "cell_type": "markdown",
   "id": "68c6e2d8",
   "metadata": {},
   "source": [
    "* As we can see, the data has 7,818,349 rows and 50 columns.\n",
    "* We will now remove some unneeded columns to make the data more compact and usable."
   ]
  },
  {
   "cell_type": "code",
   "execution_count": 6,
   "id": "59e6f504",
   "metadata": {},
   "outputs": [
    {
     "data": {
      "text/plain": [
       "(7818349, 30)"
      ]
     },
     "execution_count": 6,
     "metadata": {},
     "output_type": "execute_result"
    }
   ],
   "source": [
    "all_data = all_data.drop(['QUARTER', 'DAY_OF_WEEK', 'ORIGIN_AIRPORT_SEQ_ID', 'ORIGIN_CITY_MARKET_ID', 'ORIGIN_STATE_FIPS', 'ORIGIN_STATE_NM', 'ORIGIN_WAC', 'DEST_AIRPORT_SEQ_ID', 'DEST_CITY_MARKET_ID', 'DEST_STATE_FIPS', 'DEST_STATE_NM', 'DEST_WAC', 'DEP_DELAY_NEW', 'DEP_DELAY_GROUP', 'DEP_TIME_BLK', 'ARR_DELAY_NEW', 'ARR_DELAY_GROUP', 'ARR_TIME_BLK', 'CANCELLATION_CODE', 'DISTANCE_GROUP'], axis = 1)\n",
    "all_data.shape"
   ]
  },
  {
   "cell_type": "markdown",
   "id": "6a73bd6e",
   "metadata": {},
   "source": [
    "* The data now only has 30 columns, which is plenty for us to consider.\n",
    "* Each row in the dataset is a flight.\n",
    "* We will now look at the columns that our data has."
   ]
  },
  {
   "cell_type": "code",
   "execution_count": 7,
   "id": "8345785b",
   "metadata": {},
   "outputs": [
    {
     "data": {
      "text/plain": [
       "Index(['YEAR', 'MONTH', 'DAY_OF_MONTH', 'FL_DATE', 'OP_UNIQUE_CARRIER',\n",
       "       'OP_CARRIER_FL_NUM', 'ORIGIN_AIRPORT_ID', 'ORIGIN', 'ORIGIN_CITY_NAME',\n",
       "       'ORIGIN_STATE_ABR', 'DEST_AIRPORT_ID', 'DEST', 'DEST_CITY_NAME',\n",
       "       'DEST_STATE_ABR', 'DEP_TIME', 'DEP_DELAY', 'DEP_DEL15', 'ARR_TIME',\n",
       "       'ARR_DELAY', 'ARR_DEL15', 'CANCELLED', 'DIVERTED',\n",
       "       'ACTUAL_ELAPSED_TIME', 'AIR_TIME', 'DISTANCE', 'CARRIER_DELAY',\n",
       "       'WEATHER_DELAY', 'NAS_DELAY', 'SECURITY_DELAY', 'LATE_AIRCRAFT_DELAY'],\n",
       "      dtype='object')"
      ]
     },
     "execution_count": 7,
     "metadata": {},
     "output_type": "execute_result"
    }
   ],
   "source": [
    "all_data.columns"
   ]
  },
  {
   "cell_type": "markdown",
   "id": "63b947da",
   "metadata": {},
   "source": [
    "* We will now provide a brief description of each of the columns.\n",
    "1. YEAR (integer): the year of the flight\n",
    "3. MONTH (integer): the month of the flight (1 = January, 12 = December)\n",
    "4. DAY_OF_MONTH (integer): the day of the month of the flight\n",
    "6. FL_DATE (string): the data of the flight stored line MONTH/DAY/YEAR XX:XX:XX AM/PM\n",
    "7. OP_UNIQUE_CARRIER (string): the two-letter abbreviation of the airline\n",
    "8. OP_CARRIER_FL_NUM (integer): the flight number of the flight\n",
    "9. ORIGIN_AIRPORT_ID (integer): the airport id of the airport where the flight takes off from\n",
    "12. ORIGIN (string): the three-letter abbreviation of the airport where the flight takes off from\n",
    "13. ORIGIN_CITY_NAME (string): the city name of where the flight takes off from\n",
    "14. ORIGIN_STATE_ABBR (string): the two-letter abbreviation of the state where the flight takes off from\n",
    "15. DEST_AIRPORT_ID (integer): the airport id of the flight's destination\n",
    "16. DEST (string): the three-letter abbreviation of the wirport where the flight lands\n",
    "13. DEST_CITY_NAME (string): the city name of where the flight landa\n",
    "14. DEST_STATE_ABBR (string): the two-letter abbreviation of the state where the flight lands\n",
    "15. DEP_TIME (integer): the time when the flight departs\n",
    "16. DEP_DELAY (integer): the number of minutes the flight is delayed on departure\n",
    "17. DEP_DEL15 (integer): 1 if the flight is delayed over 15 minutes on departure, 0 else\n",
    "18. ARR_TIME (integer): the time when the fligth arrives at its destination\n",
    "19. ARR_DELAY (integer): the number of minutes the flight is delayed on arrival\n",
    "20. ARR_DEL15 (integer): 1 if the flight is delayed over 15 minutes on arrival, 0 else\n",
    "21. CANCELLED (integer): 1 if the flight is cancelled, 0 else\n",
    "22. DIVERTED (integer): 1 if the flight is diverted, 0 else\n",
    "23. ACTUAL_ELAPSED_TIME (integer): the number of minutes from when passengers board and leave the plane \n",
    "24. AIR_TIME (integer): the amount of time the plane is in the air\n",
    "25. DISTANCE (integer): the number of miles of the flight\n",
    "26. CARRIER_DELAY (integer): 1 if there was a carrier delay, 0 else\n",
    "27. WEATHER_DELAY (integer): 1 if there was a weather delay, 0 else\n",
    "28. NAS_DELAY (integer): 1 if there was a nas delay, 0 else \n",
    "29. SECURITY_DELAY (integer): 1 if there was a security delay, 0 else \n",
    "30. LATE_AIRCRAFT_DELAY (integer): 1 if there was a late aircraft delay, 0 else\n",
    "* Loading these .csv files in every time we want to access the data will be very inefficient due to its massive size. To solve this issue, we will create a SQL database using this dataset."
   ]
  },
  {
   "cell_type": "markdown",
   "id": "96b1f6a5",
   "metadata": {},
   "source": [
    "# SQL Database\n",
    "* The creation of a SQL database will allow us to easily look at subsets of the data without having to load in the whole dataframe.\n",
    "* This SQL database is created below."
   ]
  },
  {
   "cell_type": "code",
   "execution_count": 8,
   "id": "9934b038",
   "metadata": {},
   "outputs": [],
   "source": [
    "conn = sqlite3.connect(\"flights.db\")\n",
    "\n",
    "all_data.to_sql(\"flights\", conn, if_exists = \"replace\", index = False)\n",
    "\n",
    "conn.close()"
   ]
  },
  {
   "cell_type": "markdown",
   "id": "bf2eaf53",
   "metadata": {},
   "source": [
    "* Let's test this initial database.\n",
    "* We will try to select the origin, destination, flight number, and departure delay for all United Airlines flights on Noverber 1, 2022 that were delayed over 15 minutes."
   ]
  },
  {
   "cell_type": "code",
   "execution_count": 9,
   "id": "744ebef9",
   "metadata": {},
   "outputs": [
    {
     "name": "stdout",
     "output_type": "stream",
     "text": [
      "(31, 4)\n"
     ]
    },
    {
     "data": {
      "text/html": [
       "<div>\n",
       "<style scoped>\n",
       "    .dataframe tbody tr th:only-of-type {\n",
       "        vertical-align: middle;\n",
       "    }\n",
       "\n",
       "    .dataframe tbody tr th {\n",
       "        vertical-align: top;\n",
       "    }\n",
       "\n",
       "    .dataframe thead th {\n",
       "        text-align: right;\n",
       "    }\n",
       "</style>\n",
       "<table border=\"1\" class=\"dataframe\">\n",
       "  <thead>\n",
       "    <tr style=\"text-align: right;\">\n",
       "      <th></th>\n",
       "      <th>ORIGIN</th>\n",
       "      <th>DEST</th>\n",
       "      <th>OP_CARRIER_FL_NUM</th>\n",
       "      <th>DEP_DELAY</th>\n",
       "    </tr>\n",
       "  </thead>\n",
       "  <tbody>\n",
       "    <tr>\n",
       "      <th>0</th>\n",
       "      <td>LGA</td>\n",
       "      <td>CVG</td>\n",
       "      <td>4635</td>\n",
       "      <td>22.0</td>\n",
       "    </tr>\n",
       "    <tr>\n",
       "      <th>1</th>\n",
       "      <td>CAE</td>\n",
       "      <td>ATL</td>\n",
       "      <td>4675</td>\n",
       "      <td>22.0</td>\n",
       "    </tr>\n",
       "    <tr>\n",
       "      <th>2</th>\n",
       "      <td>IND</td>\n",
       "      <td>JFK</td>\n",
       "      <td>4694</td>\n",
       "      <td>20.0</td>\n",
       "    </tr>\n",
       "    <tr>\n",
       "      <th>3</th>\n",
       "      <td>BNA</td>\n",
       "      <td>LGA</td>\n",
       "      <td>4737</td>\n",
       "      <td>105.0</td>\n",
       "    </tr>\n",
       "    <tr>\n",
       "      <th>4</th>\n",
       "      <td>LGA</td>\n",
       "      <td>MCI</td>\n",
       "      <td>4743</td>\n",
       "      <td>146.0</td>\n",
       "    </tr>\n",
       "  </tbody>\n",
       "</table>\n",
       "</div>"
      ],
      "text/plain": [
       "  ORIGIN DEST  OP_CARRIER_FL_NUM  DEP_DELAY\n",
       "0    LGA  CVG               4635       22.0\n",
       "1    CAE  ATL               4675       22.0\n",
       "2    IND  JFK               4694       20.0\n",
       "3    BNA  LGA               4737      105.0\n",
       "4    LGA  MCI               4743      146.0"
      ]
     },
     "execution_count": 9,
     "metadata": {},
     "output_type": "execute_result"
    }
   ],
   "source": [
    "with sqlite3.connect(\"flights.db\") as conn:\n",
    "    cmd = \\\n",
    "    f\"\"\"\n",
    "    SELECT \n",
    "        ORIGIN, DEST, OP_CARRIER_FL_NUM, DEP_DELAY\n",
    "    FROM \n",
    "        flights\n",
    "    WHERE \n",
    "        YEAR = \"2022\"\n",
    "        AND\n",
    "        MONTH = 11\n",
    "        AND\n",
    "        DAY_OF_MONTH = 1\n",
    "        AND\n",
    "        OP_UNIQUE_CARRIER = \"9E\"\n",
    "        AND\n",
    "        DEP_DEL15 = 1\n",
    "    \"\"\"\n",
    "    df_test = pd.read_sql_query(cmd, conn)\n",
    "    \n",
    "print(df_test.shape)\n",
    "df_test.head()"
   ]
  },
  {
   "cell_type": "markdown",
   "id": "463d7b22",
   "metadata": {},
   "source": [
    "* As we can see, theer were 31 United Airlines flights that were delayed over 15 minutes on November 1, 2022. Just by looking at the preview of the data above, we can see that two of these flights departed from LGA (Queens, NY).\n",
    "* Our SQL database works so far, but we want to add another table that will give us more information about the airports that the flights are departing from.\n",
    "* To do this, we will use an API calles airportsdata. This is installed below."
   ]
  },
  {
   "cell_type": "code",
   "execution_count": 10,
   "id": "a9552d6a",
   "metadata": {},
   "outputs": [
    {
     "name": "stdout",
     "output_type": "stream",
     "text": [
      "Requirement already satisfied: airportsdata in /Users/trentbellinger/anaconda3/envs/PIC16B-24W/lib/python3.11/site-packages (20240310.1)\r\n"
     ]
    }
   ],
   "source": [
    "!pip install -U airportsdata\n",
    "import airportsdata\n",
    "airports = airportsdata.load('IATA')  # key is the ICAO identifier (the default)"
   ]
  },
  {
   "cell_type": "markdown",
   "id": "dcc369e1",
   "metadata": {},
   "source": [
    "* We will now create a pandas datframe using the airports data that contains the longitude and latitude of every airport in the United States.\n",
    "* This process is outlined below."
   ]
  },
  {
   "cell_type": "code",
   "execution_count": 11,
   "id": "f7a66e30",
   "metadata": {},
   "outputs": [
    {
     "data": {
      "text/html": [
       "<div>\n",
       "<style scoped>\n",
       "    .dataframe tbody tr th:only-of-type {\n",
       "        vertical-align: middle;\n",
       "    }\n",
       "\n",
       "    .dataframe tbody tr th {\n",
       "        vertical-align: top;\n",
       "    }\n",
       "\n",
       "    .dataframe thead th {\n",
       "        text-align: right;\n",
       "    }\n",
       "</style>\n",
       "<table border=\"1\" class=\"dataframe\">\n",
       "  <thead>\n",
       "    <tr style=\"text-align: right;\">\n",
       "      <th></th>\n",
       "      <th>AIRPORT_ID</th>\n",
       "      <th>LATITUDE</th>\n",
       "      <th>LONGITUDE</th>\n",
       "    </tr>\n",
       "  </thead>\n",
       "  <tbody>\n",
       "    <tr>\n",
       "      <th>0</th>\n",
       "      <td>OCA</td>\n",
       "      <td>25.324317</td>\n",
       "      <td>-80.275729</td>\n",
       "    </tr>\n",
       "    <tr>\n",
       "      <th>1</th>\n",
       "      <td>CYT</td>\n",
       "      <td>60.080849</td>\n",
       "      <td>-142.495494</td>\n",
       "    </tr>\n",
       "    <tr>\n",
       "      <th>2</th>\n",
       "      <td>FWL</td>\n",
       "      <td>62.509183</td>\n",
       "      <td>-153.890626</td>\n",
       "    </tr>\n",
       "    <tr>\n",
       "      <th>3</th>\n",
       "      <td>CSE</td>\n",
       "      <td>38.851937</td>\n",
       "      <td>-106.932821</td>\n",
       "    </tr>\n",
       "    <tr>\n",
       "      <th>4</th>\n",
       "      <td>CUS</td>\n",
       "      <td>31.823711</td>\n",
       "      <td>-107.626967</td>\n",
       "    </tr>\n",
       "  </tbody>\n",
       "</table>\n",
       "</div>"
      ],
      "text/plain": [
       "  AIRPORT_ID   LATITUDE   LONGITUDE\n",
       "0        OCA  25.324317  -80.275729\n",
       "1        CYT  60.080849 -142.495494\n",
       "2        FWL  62.509183 -153.890626\n",
       "3        CSE  38.851937 -106.932821\n",
       "4        CUS  31.823711 -107.626967"
      ]
     },
     "execution_count": 11,
     "metadata": {},
     "output_type": "execute_result"
    }
   ],
   "source": [
    "airports_df = pd.DataFrame([(airport, dic[\"lat\"], dic[\"lon\"]) for airport, dic in airports.items()])\n",
    "airports_df.rename(columns = {0:\"AIRPORT_ID\", 1:\"LATITUDE\", 2:\"LONGITUDE\"}, inplace = True)\n",
    "airports_df.head()"
   ]
  },
  {
   "cell_type": "markdown",
   "id": "fbf9a4f6",
   "metadata": {},
   "source": [
    "* We now have a table that contains the airport id, latitude, and longitude for every airport in the world.\n",
    "* We will not add this as a table in out SQL database."
   ]
  },
  {
   "cell_type": "code",
   "execution_count": 12,
   "id": "63a1f26e",
   "metadata": {},
   "outputs": [],
   "source": [
    "conn = sqlite3.connect(\"flights.db\")\n",
    "\n",
    "airports_df.to_sql(\"airports\", conn, if_exists = \"replace\", index = False)\n",
    "\n",
    "conn.close()"
   ]
  },
  {
   "cell_type": "markdown",
   "id": "9abe22a6",
   "metadata": {},
   "source": [
    "* We will not preform a small test to make sure the table is functional in our database.\n",
    "* We will output a dataframe of the sirport id, latitude, and longitude of all airports lower than -100 longitude."
   ]
  },
  {
   "cell_type": "code",
   "execution_count": 13,
   "id": "cd13d71c",
   "metadata": {},
   "outputs": [
    {
     "name": "stdout",
     "output_type": "stream",
     "text": [
      "(1114, 3)\n"
     ]
    },
    {
     "data": {
      "text/html": [
       "<div>\n",
       "<style scoped>\n",
       "    .dataframe tbody tr th:only-of-type {\n",
       "        vertical-align: middle;\n",
       "    }\n",
       "\n",
       "    .dataframe tbody tr th {\n",
       "        vertical-align: top;\n",
       "    }\n",
       "\n",
       "    .dataframe thead th {\n",
       "        text-align: right;\n",
       "    }\n",
       "</style>\n",
       "<table border=\"1\" class=\"dataframe\">\n",
       "  <thead>\n",
       "    <tr style=\"text-align: right;\">\n",
       "      <th></th>\n",
       "      <th>AIRPORT_ID</th>\n",
       "      <th>LATITUDE</th>\n",
       "      <th>LONGITUDE</th>\n",
       "    </tr>\n",
       "  </thead>\n",
       "  <tbody>\n",
       "    <tr>\n",
       "      <th>0</th>\n",
       "      <td>CYT</td>\n",
       "      <td>60.080849</td>\n",
       "      <td>-142.495494</td>\n",
       "    </tr>\n",
       "    <tr>\n",
       "      <th>1</th>\n",
       "      <td>FWL</td>\n",
       "      <td>62.509183</td>\n",
       "      <td>-153.890626</td>\n",
       "    </tr>\n",
       "    <tr>\n",
       "      <th>2</th>\n",
       "      <td>CSE</td>\n",
       "      <td>38.851937</td>\n",
       "      <td>-106.932821</td>\n",
       "    </tr>\n",
       "    <tr>\n",
       "      <th>3</th>\n",
       "      <td>CUS</td>\n",
       "      <td>31.823711</td>\n",
       "      <td>-107.626967</td>\n",
       "    </tr>\n",
       "    <tr>\n",
       "      <th>4</th>\n",
       "      <td>ICY</td>\n",
       "      <td>59.969019</td>\n",
       "      <td>-141.661770</td>\n",
       "    </tr>\n",
       "  </tbody>\n",
       "</table>\n",
       "</div>"
      ],
      "text/plain": [
       "  AIRPORT_ID   LATITUDE   LONGITUDE\n",
       "0        CYT  60.080849 -142.495494\n",
       "1        FWL  62.509183 -153.890626\n",
       "2        CSE  38.851937 -106.932821\n",
       "3        CUS  31.823711 -107.626967\n",
       "4        ICY  59.969019 -141.661770"
      ]
     },
     "execution_count": 13,
     "metadata": {},
     "output_type": "execute_result"
    }
   ],
   "source": [
    "with sqlite3.connect(\"flights.db\") as conn:\n",
    "    cmd = \\\n",
    "    \"\"\"\n",
    "    SELECT \n",
    "        AIRPORT_ID, LATITUDE, LONGITUDE\n",
    "    FROM \n",
    "        airports\n",
    "    WHERE\n",
    "        LONGITUDE < -100\n",
    "    \"\"\"\n",
    "    df_airports_test = pd.read_sql_query(cmd, conn)\n",
    "    \n",
    "print(df_airports_test.shape)\n",
    "df_airports_test.head()"
   ]
  },
  {
   "cell_type": "markdown",
   "id": "d6c271b1",
   "metadata": {},
   "source": [
    "* We now have a SQL database contains all the data that we need to proceed with our project.\n",
    "* Our next goal is to create a machine learning model that predicts whether or not a flight will be delayed."
   ]
  },
  {
   "cell_type": "markdown",
   "id": "9160025b",
   "metadata": {},
   "source": [
    "# Model to Predict Flight Delays"
   ]
  },
  {
   "cell_type": "markdown",
   "id": "3b83203e",
   "metadata": {},
   "source": [
    "* The first step that we will take in order to create a model to predict flight delays is to choose predictors for our model.\n",
    "* The variable that we will try to predict is DEL_DEL15, which is whether or not a light is delayed more than 15 minutes.\n",
    "* Looking at the columns of the data (outlined above), the variables that we will look into for usage in the model are: YEAR, MONTH, DAY_OF_MONTH, OP_UNIQUE_CARRIER, DEP_TIME, ARR_TIME, DISTANCE, ORIGIN_LATITUDE, ORIGIN_LONGITUDE, DEST_LATITUDE, and DEST_LONGITUDE.\n",
    "* We will create a function to output these variables from the SQL database, outlined below."
   ]
  },
  {
   "cell_type": "code",
   "execution_count": 3,
   "id": "4fba42af",
   "metadata": {},
   "outputs": [
    {
     "name": "stdout",
     "output_type": "stream",
     "text": [
      "def get_flight_model_data():\n",
      "    '''\n",
      "    Returns a pandas dataframe of all the necessary predictors to predict flight delay.\n",
      "    (note: must have the flights.db database)\n",
      "    Args:\n",
      "        none\n",
      "    Returns:\n",
      "        a pandas dataframe with all necessary predictors\n",
      "    '''\n",
      "    with sqlite3.connect(\"flights.db\") as conn:\n",
      "        cmd = \\\n",
      "        \"\"\"\n",
      "        SELECT \n",
      "            flights.YEAR, flights.MONTH, flights.DAY_OF_MONTH, flights.DEP_TIME, flights.ARR_TIME, flights.OP_UNIQUE_CARRIER, flights.ORIGIN, flights.DEST, flights.DISTANCE, flights.DEP_DEL15, airports.LATITUDE \"ORIGIN_LATITUDE\", airports.LONGITUDE \"ORIGIN_LONGITUDE\"\n",
      "        FROM \n",
      "            flights\n",
      "        INNER JOIN \n",
      "            airports ON flights.ORIGIN = airports.AIRPORT_ID\n",
      "        \"\"\"\n",
      "        df = pd.read_sql_query(cmd, conn)\n",
      "    with sqlite3.connect(\"flights.db\") as conn:\n",
      "        cmd = \\\n",
      "        \"\"\"\n",
      "        SELECT \n",
      "            flights.DEST, airports.LATITUDE \"DEST_LATITUDE\", airports.LONGITUDE \"DEST_LONGITUDE\"\n",
      "        FROM \n",
      "            flights\n",
      "        INNER JOIN \n",
      "            airports ON flights.DEST = airports.AIRPORT_ID\n",
      "        \"\"\"\n",
      "        df_dest = pd.read_sql_query(cmd, conn)\n",
      "    df[\"DEST_LATITUDE\"] = df_dest[\"DEST_LATITUDE\"]\n",
      "    df[\"DEST_LONGITUDE\"] = df_dest[\"DEST_LONGITUDE\"]\n",
      "    return df\n",
      "\n"
     ]
    }
   ],
   "source": [
    "from model_data import get_flight_model_data\n",
    "import inspect\n",
    "print(inspect.getsource(get_flight_model_data))"
   ]
  },
  {
   "cell_type": "markdown",
   "id": "94f349f2",
   "metadata": {},
   "source": [
    "* We will now use this function to get the data that will be used in our model."
   ]
  },
  {
   "cell_type": "code",
   "execution_count": 31,
   "id": "d798073d",
   "metadata": {},
   "outputs": [],
   "source": [
    "df = get_flight_model_data()\n",
    "df.shape"
   ]
  },
  {
   "cell_type": "markdown",
   "id": "8145e1f4",
   "metadata": {},
   "source": [
    "* Now that we have our data, we must proceed to making our data ready to be inputted into our model."
   ]
  },
  {
   "cell_type": "markdown",
   "id": "590c0721",
   "metadata": {},
   "source": [
    "## Encoding Categorical Variables:\n",
    "* There is only one categorical predictor: OP_UNIQUE_CARRIER.\n",
    "* We need to see if there are any similarities between carriers to encode the predictor.\n",
    "* We will first look at the proportion of delayed flights with the same carrier to see if there is any grouping we can make. (note: this could potentially give some feedback in the final model, but after the model was tested this was the most efficient way to encode these variables)"
   ]
  },
  {
   "cell_type": "code",
   "execution_count": 16,
   "id": "abaf5d9b",
   "metadata": {},
   "outputs": [
    {
     "data": {
      "text/html": [
       "<div>\n",
       "<style scoped>\n",
       "    .dataframe tbody tr th:only-of-type {\n",
       "        vertical-align: middle;\n",
       "    }\n",
       "\n",
       "    .dataframe tbody tr th {\n",
       "        vertical-align: top;\n",
       "    }\n",
       "\n",
       "    .dataframe thead th {\n",
       "        text-align: right;\n",
       "    }\n",
       "</style>\n",
       "<table border=\"1\" class=\"dataframe\">\n",
       "  <thead>\n",
       "    <tr style=\"text-align: right;\">\n",
       "      <th></th>\n",
       "      <th>DEP_DEL15</th>\n",
       "    </tr>\n",
       "    <tr>\n",
       "      <th>OP_UNIQUE_CARRIER</th>\n",
       "      <th></th>\n",
       "    </tr>\n",
       "  </thead>\n",
       "  <tbody>\n",
       "    <tr>\n",
       "      <th>9E</th>\n",
       "      <td>0.137079</td>\n",
       "    </tr>\n",
       "    <tr>\n",
       "      <th>AA</th>\n",
       "      <td>0.226159</td>\n",
       "    </tr>\n",
       "    <tr>\n",
       "      <th>AS</th>\n",
       "      <td>0.188135</td>\n",
       "    </tr>\n",
       "    <tr>\n",
       "      <th>B6</th>\n",
       "      <td>0.319652</td>\n",
       "    </tr>\n",
       "    <tr>\n",
       "      <th>C5</th>\n",
       "      <td>0.160611</td>\n",
       "    </tr>\n",
       "    <tr>\n",
       "      <th>DL</th>\n",
       "      <td>0.176269</td>\n",
       "    </tr>\n",
       "    <tr>\n",
       "      <th>F9</th>\n",
       "      <td>0.330197</td>\n",
       "    </tr>\n",
       "    <tr>\n",
       "      <th>G4</th>\n",
       "      <td>0.251783</td>\n",
       "    </tr>\n",
       "    <tr>\n",
       "      <th>G7</th>\n",
       "      <td>0.162785</td>\n",
       "    </tr>\n",
       "    <tr>\n",
       "      <th>HA</th>\n",
       "      <td>0.226633</td>\n",
       "    </tr>\n",
       "    <tr>\n",
       "      <th>MQ</th>\n",
       "      <td>0.165283</td>\n",
       "    </tr>\n",
       "    <tr>\n",
       "      <th>NK</th>\n",
       "      <td>0.293779</td>\n",
       "    </tr>\n",
       "    <tr>\n",
       "      <th>OH</th>\n",
       "      <td>0.144903</td>\n",
       "    </tr>\n",
       "    <tr>\n",
       "      <th>OO</th>\n",
       "      <td>0.148674</td>\n",
       "    </tr>\n",
       "    <tr>\n",
       "      <th>PT</th>\n",
       "      <td>0.114231</td>\n",
       "    </tr>\n",
       "    <tr>\n",
       "      <th>QX</th>\n",
       "      <td>0.138694</td>\n",
       "    </tr>\n",
       "    <tr>\n",
       "      <th>UA</th>\n",
       "      <td>0.207823</td>\n",
       "    </tr>\n",
       "    <tr>\n",
       "      <th>WN</th>\n",
       "      <td>0.253576</td>\n",
       "    </tr>\n",
       "    <tr>\n",
       "      <th>YV</th>\n",
       "      <td>0.234829</td>\n",
       "    </tr>\n",
       "    <tr>\n",
       "      <th>YX</th>\n",
       "      <td>0.114442</td>\n",
       "    </tr>\n",
       "    <tr>\n",
       "      <th>ZW</th>\n",
       "      <td>0.226159</td>\n",
       "    </tr>\n",
       "  </tbody>\n",
       "</table>\n",
       "</div>"
      ],
      "text/plain": [
       "                   DEP_DEL15\n",
       "OP_UNIQUE_CARRIER           \n",
       "9E                  0.137079\n",
       "AA                  0.226159\n",
       "AS                  0.188135\n",
       "B6                  0.319652\n",
       "C5                  0.160611\n",
       "DL                  0.176269\n",
       "F9                  0.330197\n",
       "G4                  0.251783\n",
       "G7                  0.162785\n",
       "HA                  0.226633\n",
       "MQ                  0.165283\n",
       "NK                  0.293779\n",
       "OH                  0.144903\n",
       "OO                  0.148674\n",
       "PT                  0.114231\n",
       "QX                  0.138694\n",
       "UA                  0.207823\n",
       "WN                  0.253576\n",
       "YV                  0.234829\n",
       "YX                  0.114442\n",
       "ZW                  0.226159"
      ]
     },
     "execution_count": 16,
     "metadata": {},
     "output_type": "execute_result"
    }
   ],
   "source": [
    "# 9E: endeavor air, AA: american, AS: alaska, B6: jetblue, c5: commuteair, dl: delta, f9: frontier\n",
    "# g4: allegiant, g7: gojet, HA: hawaiian, MQ: envoy, NK: spirit, OH: psa, OO: skywest, PT: tap air portugal, \n",
    "# QX: horizon, UA: united, WN: southwest, YV: mesa, YX: republic airways, ZW: air wisconsin\n",
    "\n",
    "carrier_groups = df[[\"OP_UNIQUE_CARRIER\", \"DEP_DEL15\"]].groupby(\"OP_UNIQUE_CARRIER\")\n",
    "carrier_delays = carrier_groups.mean()\n",
    "carrier_delays"
   ]
  },
  {
   "cell_type": "markdown",
   "id": "3e89d7f6",
   "metadata": {},
   "source": [
    "* We see that the airlines fall into these categories by average delays:\n",
    "1. over 0.3: B6, F9\n",
    "2. 0.25-0.3: G4, NK, WN\n",
    "3. 0.2-0.25: AA, HA, UA, YV, ZW\n",
    "4. 0.15-0.2: AS, C5, DL, G7, MQ\n",
    "5. 0.1-0.15: 9E, OH, OO, PT, QX, YX\n",
    "* We will now look at the average distance of flights with the same carrier to see if there is any grouping we can make."
   ]
  },
  {
   "cell_type": "code",
   "execution_count": 17,
   "id": "116c10d8",
   "metadata": {},
   "outputs": [
    {
     "data": {
      "text/html": [
       "<div>\n",
       "<style scoped>\n",
       "    .dataframe tbody tr th:only-of-type {\n",
       "        vertical-align: middle;\n",
       "    }\n",
       "\n",
       "    .dataframe tbody tr th {\n",
       "        vertical-align: top;\n",
       "    }\n",
       "\n",
       "    .dataframe thead th {\n",
       "        text-align: right;\n",
       "    }\n",
       "</style>\n",
       "<table border=\"1\" class=\"dataframe\">\n",
       "  <thead>\n",
       "    <tr style=\"text-align: right;\">\n",
       "      <th></th>\n",
       "      <th>DISTANCE</th>\n",
       "    </tr>\n",
       "    <tr>\n",
       "      <th>OP_UNIQUE_CARRIER</th>\n",
       "      <th></th>\n",
       "    </tr>\n",
       "  </thead>\n",
       "  <tbody>\n",
       "    <tr>\n",
       "      <th>9E</th>\n",
       "      <td>382.0</td>\n",
       "    </tr>\n",
       "    <tr>\n",
       "      <th>AA</th>\n",
       "      <td>862.0</td>\n",
       "    </tr>\n",
       "    <tr>\n",
       "      <th>AS</th>\n",
       "      <td>1107.0</td>\n",
       "    </tr>\n",
       "    <tr>\n",
       "      <th>B6</th>\n",
       "      <td>1041.0</td>\n",
       "    </tr>\n",
       "    <tr>\n",
       "      <th>C5</th>\n",
       "      <td>376.0</td>\n",
       "    </tr>\n",
       "    <tr>\n",
       "      <th>DL</th>\n",
       "      <td>757.0</td>\n",
       "    </tr>\n",
       "    <tr>\n",
       "      <th>F9</th>\n",
       "      <td>950.0</td>\n",
       "    </tr>\n",
       "    <tr>\n",
       "      <th>G4</th>\n",
       "      <td>883.0</td>\n",
       "    </tr>\n",
       "    <tr>\n",
       "      <th>G7</th>\n",
       "      <td>258.0</td>\n",
       "    </tr>\n",
       "    <tr>\n",
       "      <th>HA</th>\n",
       "      <td>163.0</td>\n",
       "    </tr>\n",
       "    <tr>\n",
       "      <th>MQ</th>\n",
       "      <td>489.0</td>\n",
       "    </tr>\n",
       "    <tr>\n",
       "      <th>NK</th>\n",
       "      <td>957.0</td>\n",
       "    </tr>\n",
       "    <tr>\n",
       "      <th>OH</th>\n",
       "      <td>394.0</td>\n",
       "    </tr>\n",
       "    <tr>\n",
       "      <th>OO</th>\n",
       "      <td>409.0</td>\n",
       "    </tr>\n",
       "    <tr>\n",
       "      <th>PT</th>\n",
       "      <td>245.0</td>\n",
       "    </tr>\n",
       "    <tr>\n",
       "      <th>QX</th>\n",
       "      <td>379.0</td>\n",
       "    </tr>\n",
       "    <tr>\n",
       "      <th>UA</th>\n",
       "      <td>956.0</td>\n",
       "    </tr>\n",
       "    <tr>\n",
       "      <th>WN</th>\n",
       "      <td>622.0</td>\n",
       "    </tr>\n",
       "    <tr>\n",
       "      <th>YV</th>\n",
       "      <td>429.0</td>\n",
       "    </tr>\n",
       "    <tr>\n",
       "      <th>YX</th>\n",
       "      <td>453.0</td>\n",
       "    </tr>\n",
       "    <tr>\n",
       "      <th>ZW</th>\n",
       "      <td>240.0</td>\n",
       "    </tr>\n",
       "  </tbody>\n",
       "</table>\n",
       "</div>"
      ],
      "text/plain": [
       "                   DISTANCE\n",
       "OP_UNIQUE_CARRIER          \n",
       "9E                    382.0\n",
       "AA                    862.0\n",
       "AS                   1107.0\n",
       "B6                   1041.0\n",
       "C5                    376.0\n",
       "DL                    757.0\n",
       "F9                    950.0\n",
       "G4                    883.0\n",
       "G7                    258.0\n",
       "HA                    163.0\n",
       "MQ                    489.0\n",
       "NK                    957.0\n",
       "OH                    394.0\n",
       "OO                    409.0\n",
       "PT                    245.0\n",
       "QX                    379.0\n",
       "UA                    956.0\n",
       "WN                    622.0\n",
       "YV                    429.0\n",
       "YX                    453.0\n",
       "ZW                    240.0"
      ]
     },
     "execution_count": 17,
     "metadata": {},
     "output_type": "execute_result"
    }
   ],
   "source": [
    "carrier_groups = df[[\"OP_UNIQUE_CARRIER\", \"DISTANCE\"]].groupby(\"OP_UNIQUE_CARRIER\")\n",
    "carrier_distances = carrier_groups.median()\n",
    "carrier_distances"
   ]
  },
  {
   "cell_type": "markdown",
   "id": "f2dc2872",
   "metadata": {},
   "source": [
    "* We see that the below groups are made:\n",
    "1. over 1100: AS\n",
    "2. 1000-1100: B6\n",
    "3. 900-1000: F9, NK, UA\n",
    "4. 800-900: AA, G4\n",
    "5. 700-800: DL\n",
    "6. 600-700: WN\n",
    "7. 400-500: MQ, OO, YV, YX\n",
    "8. 300-400: 9E, C5, OH, QX\n",
    "9. 200-300: G7, PT, ZW\n",
    "10. 100-200: HA\n",
    "* Now to decide what to encode each variable as, we will look at a combination of these two groupings, isualized below."
   ]
  },
  {
   "cell_type": "code",
   "execution_count": 18,
   "id": "7b33168e",
   "metadata": {},
   "outputs": [
    {
     "data": {
      "image/png": "[encoded data removed]",
      "text/plain": [
       "<Figure size 640x480 with 1 Axes>"
      ]
     },
     "metadata": {},
     "output_type": "display_data"
    }
   ],
   "source": [
    "fig, ax = plt.subplots()\n",
    "ax.scatter(x = carrier_delays, y = carrier_distances)\n",
    "ax.set_xlabel(\"Proportion of Delayed FLights\")\n",
    "ax.set_ylabel(\"Average Distance of Flights\")\n",
    "\n",
    "for i, txt in enumerate(carrier_delays.index):\n",
    "    ax.annotate(txt, (carrier_delays[\"DEP_DEL15\"][i], carrier_distances[\"DISTANCE\"][i]))"
   ]
  },
  {
   "cell_type": "markdown",
   "id": "5613646f",
   "metadata": {},
   "source": [
    "* There are four groups in the scatterplot above, which we will use to encode the carriers.\n",
    "* There is one group in the bottom left, one group in the top right, one group in the bottom middle and one group in the top middle.\n",
    "* We will encode the flight carriers as follows:\n",
    "* 0: PT, YX, 9E, QX, OH, OO, C5, G7, MQ\n",
    "* 1: HA, ZW, YV, WN\n",
    "* 2: DL, AA, G4, UA, AS\n",
    "* 3: B6, F9, NK"
   ]
  },
  {
   "cell_type": "code",
   "execution_count": 32,
   "id": "1df4b934",
   "metadata": {},
   "outputs": [
    {
     "data": {
      "text/html": [
       "<div>\n",
       "<style scoped>\n",
       "    .dataframe tbody tr th:only-of-type {\n",
       "        vertical-align: middle;\n",
       "    }\n",
       "\n",
       "    .dataframe tbody tr th {\n",
       "        vertical-align: top;\n",
       "    }\n",
       "\n",
       "    .dataframe thead th {\n",
       "        text-align: right;\n",
       "    }\n",
       "</style>\n",
       "<table border=\"1\" class=\"dataframe\">\n",
       "  <thead>\n",
       "    <tr style=\"text-align: right;\">\n",
       "      <th></th>\n",
       "      <th>YEAR</th>\n",
       "      <th>MONTH</th>\n",
       "      <th>DAY_OF_MONTH</th>\n",
       "      <th>DEP_TIME</th>\n",
       "      <th>ARR_TIME</th>\n",
       "      <th>OP_UNIQUE_CARRIER</th>\n",
       "      <th>ORIGIN</th>\n",
       "      <th>DEST</th>\n",
       "      <th>DISTANCE</th>\n",
       "      <th>DEP_DEL15</th>\n",
       "      <th>ORIGIN_LATITUDE</th>\n",
       "      <th>ORIGIN_LONGITUDE</th>\n",
       "      <th>DEST_LATITUDE</th>\n",
       "      <th>DEST_LONGITUDE</th>\n",
       "    </tr>\n",
       "  </thead>\n",
       "  <tbody>\n",
       "    <tr>\n",
       "      <th>0</th>\n",
       "      <td>2022</td>\n",
       "      <td>11</td>\n",
       "      <td>1</td>\n",
       "      <td>1355.0</td>\n",
       "      <td>1747.0</td>\n",
       "      <td>0</td>\n",
       "      <td>XNA</td>\n",
       "      <td>LGA</td>\n",
       "      <td>1147.0</td>\n",
       "      <td>0.0</td>\n",
       "      <td>36.281579</td>\n",
       "      <td>-94.307766</td>\n",
       "      <td>40.777250</td>\n",
       "      <td>-73.872611</td>\n",
       "    </tr>\n",
       "    <tr>\n",
       "      <th>1</th>\n",
       "      <td>2022</td>\n",
       "      <td>11</td>\n",
       "      <td>1</td>\n",
       "      <td>1412.0</td>\n",
       "      <td>1609.0</td>\n",
       "      <td>0</td>\n",
       "      <td>LGA</td>\n",
       "      <td>CVG</td>\n",
       "      <td>585.0</td>\n",
       "      <td>1.0</td>\n",
       "      <td>40.777250</td>\n",
       "      <td>-73.872611</td>\n",
       "      <td>39.048837</td>\n",
       "      <td>-84.667821</td>\n",
       "    </tr>\n",
       "    <tr>\n",
       "      <th>2</th>\n",
       "      <td>2022</td>\n",
       "      <td>11</td>\n",
       "      <td>1</td>\n",
       "      <td>1345.0</td>\n",
       "      <td>1550.0</td>\n",
       "      <td>0</td>\n",
       "      <td>LGA</td>\n",
       "      <td>XNA</td>\n",
       "      <td>1147.0</td>\n",
       "      <td>0.0</td>\n",
       "      <td>40.777250</td>\n",
       "      <td>-73.872611</td>\n",
       "      <td>36.281579</td>\n",
       "      <td>-94.307766</td>\n",
       "    </tr>\n",
       "    <tr>\n",
       "      <th>3</th>\n",
       "      <td>2022</td>\n",
       "      <td>11</td>\n",
       "      <td>1</td>\n",
       "      <td>1550.0</td>\n",
       "      <td>1648.0</td>\n",
       "      <td>0</td>\n",
       "      <td>LSE</td>\n",
       "      <td>MSP</td>\n",
       "      <td>119.0</td>\n",
       "      <td>0.0</td>\n",
       "      <td>43.879266</td>\n",
       "      <td>-91.256634</td>\n",
       "      <td>44.881972</td>\n",
       "      <td>-93.221778</td>\n",
       "    </tr>\n",
       "    <tr>\n",
       "      <th>4</th>\n",
       "      <td>2022</td>\n",
       "      <td>11</td>\n",
       "      <td>1</td>\n",
       "      <td>1418.0</td>\n",
       "      <td>1506.0</td>\n",
       "      <td>0</td>\n",
       "      <td>MSP</td>\n",
       "      <td>LSE</td>\n",
       "      <td>119.0</td>\n",
       "      <td>0.0</td>\n",
       "      <td>44.881972</td>\n",
       "      <td>-93.221778</td>\n",
       "      <td>43.879266</td>\n",
       "      <td>-91.256634</td>\n",
       "    </tr>\n",
       "  </tbody>\n",
       "</table>\n",
       "</div>"
      ],
      "text/plain": [
       "   YEAR  MONTH  DAY_OF_MONTH  DEP_TIME  ARR_TIME  OP_UNIQUE_CARRIER ORIGIN  \\\n",
       "0  2022     11             1    1355.0    1747.0                  0    XNA   \n",
       "1  2022     11             1    1412.0    1609.0                  0    LGA   \n",
       "2  2022     11             1    1345.0    1550.0                  0    LGA   \n",
       "3  2022     11             1    1550.0    1648.0                  0    LSE   \n",
       "4  2022     11             1    1418.0    1506.0                  0    MSP   \n",
       "\n",
       "  DEST  DISTANCE  DEP_DEL15  ORIGIN_LATITUDE  ORIGIN_LONGITUDE  DEST_LATITUDE  \\\n",
       "0  LGA    1147.0        0.0        36.281579        -94.307766      40.777250   \n",
       "1  CVG     585.0        1.0        40.777250        -73.872611      39.048837   \n",
       "2  XNA    1147.0        0.0        40.777250        -73.872611      36.281579   \n",
       "3  MSP     119.0        0.0        43.879266        -91.256634      44.881972   \n",
       "4  LSE     119.0        0.0        44.881972        -93.221778      43.879266   \n",
       "\n",
       "   DEST_LONGITUDE  \n",
       "0      -73.872611  \n",
       "1      -84.667821  \n",
       "2      -94.307766  \n",
       "3      -93.221778  \n",
       "4      -91.256634  "
      ]
     },
     "execution_count": 32,
     "metadata": {},
     "output_type": "execute_result"
    }
   ],
   "source": [
    "df[\"OP_UNIQUE_CARRIER\"].replace({\"PT\":0, \"YX\":0, \"9E\":0, \"QX\":0, \"OH\":0, \"OO\":0, \"C5\":0, \"G7\":0, \"MQ\":0, \"HA\":1, \"ZW\":1, \"YV\":1, \"WN\":1, \"DL\":2, \"AA\":2, \"G4\":2, \"UA\":2, \"AS\":2, \"B6\":3, \"F9\":3, \"NK\":3}, inplace = True)\n",
    "df.head()"
   ]
  },
  {
   "cell_type": "markdown",
   "id": "42d741a8",
   "metadata": {},
   "source": [
    "## Dealing with NAs:"
   ]
  },
  {
   "cell_type": "markdown",
   "id": "a899def9",
   "metadata": {},
   "source": [
    "* Now that we have all of our variables prepped to use in our model, we must figure out how to deal with NA values in our data. \n",
    "* There were a small number in proportion to the size of the data, as shown below."
   ]
  },
  {
   "cell_type": "code",
   "execution_count": 38,
   "id": "bb847eeb",
   "metadata": {},
   "outputs": [
    {
     "data": {
      "text/plain": [
       "0.0034782736282119335"
      ]
     },
     "execution_count": 38,
     "metadata": {},
     "output_type": "execute_result"
    }
   ],
   "source": [
    "(df.isna().sum().sum()) / df.size"
   ]
  },
  {
   "cell_type": "markdown",
   "id": "6392ab18",
   "metadata": {},
   "source": [
    "* We can see that about 0.35% of the data is NA values.\n",
    "* This is an extremely small amount, so we will deal with the NAs by simply removing any rows that contain NA values, which is done below."
   ]
  },
  {
   "cell_type": "code",
   "execution_count": 39,
   "id": "475391ca",
   "metadata": {},
   "outputs": [
    {
     "name": "stdout",
     "output_type": "stream",
     "text": [
      "Shape before dropping NAs:  (7818349, 14)\n",
      "Shape after dropping NAs:  (7687386, 14)\n"
     ]
    }
   ],
   "source": [
    "print(\"Shape before dropping NAs: \", df.shape)\n",
    "df = df.dropna()\n",
    "print(\"Shape after dropping NAs: \", df.shape)"
   ]
  },
  {
   "cell_type": "markdown",
   "id": "21d36554",
   "metadata": {},
   "source": [
    "* We can see that very few observations are removed, which is good."
   ]
  },
  {
   "cell_type": "markdown",
   "id": "e6e2b96e",
   "metadata": {},
   "source": [
    "## Base Rate\n",
    "* We will now check the rate at which our model should perform.\n",
    "* This will be done by looking at the proportion of flights which are delayed, done below."
   ]
  },
  {
   "cell_type": "code",
   "execution_count": 41,
   "id": "4c760905",
   "metadata": {},
   "outputs": [
    {
     "name": "stdout",
     "output_type": "stream",
     "text": [
      "Proportion of delayed flights:  0.20882612112882065\n",
      "Proportion of non-delayed flights:  0.7911738788711793\n"
     ]
    }
   ],
   "source": [
    "print(\"Proportion of delayed flights: \", df[\"DEP_DEL15\"].mean())\n",
    "print(\"Proportion of non-delayed flights: \", 1 - df[\"DEP_DEL15\"].mean())"
   ]
  },
  {
   "cell_type": "markdown",
   "id": "f5f54a89",
   "metadata": {},
   "source": [
    "* As we can see, the data is extremely imbalanced. There are way more non-delayed flights than theer are delayed flights.\n",
    "* The base rate is about 0.8, which is going to be very high for the model that we plan to create because of outside variability.\n",
    "* Seeing that we have over 7 million observations, we can certainly even out this category in the data to make the model more accurate.\n",
    "* We will remove some of the data of the non-delayed flights to make the number of flights in each category equal. This is done below."
   ]
  },
  {
   "cell_type": "code",
   "execution_count": 42,
   "id": "4b3e35a1",
   "metadata": {},
   "outputs": [
    {
     "data": {
      "text/plain": [
       "(3210654, 14)"
      ]
     },
     "execution_count": 42,
     "metadata": {},
     "output_type": "execute_result"
    }
   ],
   "source": [
    "# make the number of delayed and not delayed flights equal\n",
    "g = df.groupby('DEP_DEL15')\n",
    "df = g.apply(lambda x: x.sample(g.size().min()).reset_index(drop=True))\n",
    "df.shape"
   ]
  },
  {
   "cell_type": "markdown",
   "id": "c964bac1",
   "metadata": {},
   "source": [
    "* We now have a smaller amount of data, which will be very useful for the amount of time it takes to train our model.\n",
    "* We will now check to see if this worked."
   ]
  },
  {
   "cell_type": "code",
   "execution_count": 43,
   "id": "bad89516",
   "metadata": {},
   "outputs": [
    {
     "name": "stdout",
     "output_type": "stream",
     "text": [
      "New proportion of delayed flights:  0.5\n",
      "New proportion of non-delayed flights:  0.5\n"
     ]
    }
   ],
   "source": [
    "print(\"New proportion of delayed flights: \", df[\"DEP_DEL15\"].mean())\n",
    "print(\"New proportion of non-delayed flights: \", 1 - df[\"DEP_DEL15\"].mean())"
   ]
  },
  {
   "cell_type": "markdown",
   "id": "87460c6b",
   "metadata": {},
   "source": [
    "* We now have a balanced dataset, so we can proceed with model creation."
   ]
  },
  {
   "cell_type": "markdown",
   "id": "53e34e09",
   "metadata": {},
   "source": [
    "## Train-Test Split\n",
    "* We will now create a training and testing dataset for our model, done below."
   ]
  },
  {
   "cell_type": "code",
   "execution_count": 44,
   "id": "90b3c370",
   "metadata": {},
   "outputs": [
    {
     "name": "stdout",
     "output_type": "stream",
     "text": [
      "(2568523, 11) (642131, 11) (2568523, 1) (642131, 1)\n"
     ]
    }
   ],
   "source": [
    "from sklearn.model_selection import train_test_split\n",
    "\n",
    "model_X = df[['YEAR', 'MONTH', 'DAY_OF_MONTH', 'DEP_TIME', 'ARR_TIME', 'OP_UNIQUE_CARRIER', 'DISTANCE', 'ORIGIN_LATITUDE', 'ORIGIN_LONGITUDE', 'DEST_LATITUDE', 'DEST_LONGITUDE']]\n",
    "model_y = df[['DEP_DEL15']]\n",
    "X_train, X_test, y_train, y_test = train_test_split(model_X, model_y, test_size = 0.2, random_state = 50)\n",
    "print(X_train.shape, X_test.shape, y_train.shape, y_test.shape)"
   ]
  },
  {
   "cell_type": "markdown",
   "id": "a2c3e618",
   "metadata": {},
   "source": [
    "* We now have training and testing data, so we can proceed with model fitting."
   ]
  },
  {
   "cell_type": "markdown",
   "id": "e70f17a3",
   "metadata": {},
   "source": [
    "## Model Fitting\n",
    "* We started with training many deep neural network models, which took very long to train and were ultimately not as successful as we hoped.\n",
    "* Ou rbest model ended up being a random forest classifier, as shown below."
   ]
  },
  {
   "cell_type": "code",
   "execution_count": 30,
   "id": "72f53fb6",
   "metadata": {},
   "outputs": [
    {
     "data": {
      "text/plain": [
       "0.8309690701741544"
      ]
     },
     "execution_count": 30,
     "metadata": {},
     "output_type": "execute_result"
    }
   ],
   "source": [
    "from sklearn.ensemble import RandomForestClassifier\n",
    "\n",
    "rf = RandomForestClassifier(n_estimators=100, criterion=\"entropy\", random_state=0)\n",
    "rf.fit(X_train, np.array(y_train).flatten())\n",
    "rf.score(X_test, np.array(y_test).flatten())"
   ]
  },
  {
   "cell_type": "markdown",
   "id": "4d8764fc",
   "metadata": {},
   "source": [
    "* As we can see, the model predicts whether a flight will be delayed with 83% accuracy. This is very good, expecially considering the amount of varuabiliy that goes into flight delays.\n",
    "* We will now save the model for future usage."
   ]
  },
  {
   "cell_type": "code",
   "execution_count": null,
   "id": "1dcf4d24",
   "metadata": {},
   "outputs": [],
   "source": [
    "from joblib import dump, load\n",
    "\n",
    "dump(rf, 'flights_rf.joblib')"
   ]
  }
 ],
 "metadata": {
  "kernelspec": {
   "display_name": "Python [conda env:anaconda3-PIC16B-24W] *",
   "language": "python",
   "name": "conda-env-anaconda3-PIC16B-24W-py"
  },
  "language_info": {
   "codemirror_mode": {
    "name": "ipython",
    "version": 3
   },
   "file_extension": ".py",
   "mimetype": "text/x-python",
   "name": "python",
   "nbconvert_exporter": "python",
   "pygments_lexer": "ipython3",
   "version": "3.11.6"
  }
 },
 "nbformat": 4,
 "nbformat_minor": 5
}
